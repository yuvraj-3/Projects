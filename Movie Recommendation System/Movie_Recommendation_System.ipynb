{
 "cells": [
  {
   "cell_type": "code",
   "execution_count": 2,
   "id": "c5885ad0-9d21-4f71-a9ec-688d2302e147",
   "metadata": {},
   "outputs": [],
   "source": [
    "import pandas as pd\n",
    "from sklearn.feature_extraction.text import TfidfVectorizer\n",
    "from sklearn.metrics.pairwise import cosine_similarity\n",
    "import numpy as np\n",
    "import string\n",
    "import ast\n",
    "\n",
    "# Load your dataset\n",
    "movies = pd.read_csv('tmdb_5000_movies.csv')\n",
    "credits = pd.read_csv('tmdb_5000_credits.csv')\n",
    "\n",
    "\n"
   ]
  },
  {
   "cell_type": "code",
   "execution_count": 3,
   "id": "6d0262dc-fd8e-4d10-8942-119559f9206a",
   "metadata": {},
   "outputs": [
    {
     "name": "stdout",
     "output_type": "stream",
     "text": [
      "Index(['budget', 'genres', 'homepage', 'id', 'keywords', 'original_language',\n",
      "       'original_title', 'overview', 'popularity', 'production_companies',\n",
      "       'production_countries', 'release_date', 'revenue', 'runtime',\n",
      "       'spoken_languages', 'status', 'tagline', 'title', 'vote_average',\n",
      "       'vote_count'],\n",
      "      dtype='object')\n",
      "Index(['movie_id', 'title', 'cast', 'crew'], dtype='object')\n"
     ]
    }
   ],
   "source": [
    "print(movies.columns)\n",
    "print(credits.columns)\n"
   ]
  },
  {
   "cell_type": "code",
   "execution_count": 4,
   "id": "5edebb72-955d-4ab3-a5cb-83e343df0fa7",
   "metadata": {},
   "outputs": [
    {
     "name": "stdout",
     "output_type": "stream",
     "text": [
      "Index(['budget', 'genres', 'homepage', 'id', 'keywords', 'original_language',\n",
      "       'original_title', 'overview', 'popularity', 'production_companies',\n",
      "       'production_countries', 'release_date', 'revenue', 'runtime',\n",
      "       'spoken_languages', 'status', 'tagline', 'title_x', 'vote_average',\n",
      "       'vote_count', 'movie_id', 'title_y', 'cast', 'crew'],\n",
      "      dtype='object')\n"
     ]
    }
   ],
   "source": [
    "# Merge datasets\n",
    "df = movies.merge(credits, left_on='id', right_on='movie_id')\n",
    "\n",
    "# Print column names to check\n",
    "print(df.columns)\n",
    "\n",
    "# If you have a 'title_x' column after merge, use that\n",
    "if 'title_x' in df.columns:\n",
    "    df['title'] = df['title_x']\n",
    "\n",
    "\n"
   ]
  },
  {
   "cell_type": "code",
   "execution_count": 5,
   "id": "be7adcf2-134a-4886-8e68-6ea79580b33a",
   "metadata": {},
   "outputs": [],
   "source": [
    "# Preprocessing: Convert JSON-like columns to actual lists\n",
    "def parse_json_column(column):\n",
    "    return column.apply(lambda x: ast.literal_eval(x) if isinstance(x, str) else [])"
   ]
  },
  {
   "cell_type": "code",
   "execution_count": 6,
   "id": "369c54e6-c5ef-47d0-9856-43c59a7d7be0",
   "metadata": {},
   "outputs": [],
   "source": [
    "import ast\n",
    "\n",
    "def parse_json_column(column):\n",
    "    def parse_genres(x):\n",
    "        try:\n",
    "            # Try to parse the string as a JSON object (list of dictionaries)\n",
    "            parsed = ast.literal_eval(x) if isinstance(x, str) else []\n",
    "            # Ensure that the result is a list of dictionaries or empty list\n",
    "            return parsed if isinstance(parsed, list) else []\n",
    "        except (ValueError, SyntaxError):\n",
    "            # If parsing fails, assume it's a simple string and return a list of words\n",
    "            return x.split() if isinstance(x, str) else []\n",
    "    \n",
    "    return column.apply(parse_genres)\n",
    "\n",
    "# Apply to 'genres' column (assuming genres are JSON-like in the original column)\n",
    "df['genres'] = parse_json_column(df['genres']).apply(lambda x: ' '.join([i['name'] for i in x]) if isinstance(x, list) and len(x) > 0 and isinstance(x[0], dict) else ' '.join(x))\n",
    "\n",
    "# Apply similar parsing to 'keywords', 'cast', 'crew' if necessary\n",
    "df['keywords'] = parse_json_column(df['keywords']).apply(lambda x: ' '.join([i['name'] for i in x]) if isinstance(x, list) and len(x) > 0 and isinstance(x[0], dict) else ' '.join(x))\n",
    "df['cast'] = parse_json_column(df['cast']).apply(lambda x: ' '.join([i['name'] for i in x]) if isinstance(x, list) and len(x) > 0 and isinstance(x[0], dict) else ' '.join(x))\n",
    "df['crew'] = parse_json_column(df['crew']).apply(lambda x: ' '.join([i['name'] for i in x]) if isinstance(x, list) and len(x) > 0 and isinstance(x[0], dict) else ' '.join(x))\n"
   ]
  },
  {
   "cell_type": "code",
   "execution_count": 7,
   "id": "53bf514f-9f59-4802-8d7c-bb4d3aa22bcc",
   "metadata": {},
   "outputs": [],
   "source": [
    "def clean_text(text):\n",
    "    if isinstance(text, str):\n",
    "        text = text.lower()  # Lowercasing the text\n",
    "        text = text.translate(str.maketrans('', '', string.punctuation))  # Removing punctuation\n",
    "    else:\n",
    "        text = ''\n",
    "    return text\n",
    "    "
   ]
  },
  {
   "cell_type": "code",
   "execution_count": 8,
   "id": "c9c83d89-e178-4fda-9f0f-bff44f59173d",
   "metadata": {},
   "outputs": [],
   "source": [
    "df['genres'] = df['genres'].apply(lambda x: clean_text(x))\n",
    "df['keywords'] = df['keywords'].apply(lambda x: clean_text(x))\n",
    "df['cast'] = df['cast'].apply(lambda x: clean_text(x))\n",
    "df['crew'] = df['crew'].apply(lambda x: clean_text(x))\n",
    "df['overview'] = df['overview'].apply(lambda x: clean_text(x))"
   ]
  },
  {
   "cell_type": "code",
   "execution_count": 9,
   "id": "fd2966ea-beaa-40dd-8e17-a109f001e78e",
   "metadata": {},
   "outputs": [],
   "source": [
    "df['soup'] = df['genres'] + ' ' + df['keywords'] + ' ' + df['cast'] + ' ' + df['crew'] + ' ' + df['overview']"
   ]
  },
  {
   "cell_type": "code",
   "execution_count": 10,
   "id": "6b985eba-2b94-4356-8a5b-164a930ffecd",
   "metadata": {},
   "outputs": [],
   "source": [
    "df['soup'] = df['soup'].fillna('')\n"
   ]
  },
  {
   "cell_type": "code",
   "execution_count": 11,
   "id": "dfc01f0f-d9d4-4972-8b47-77072ddec990",
   "metadata": {},
   "outputs": [],
   "source": [
    "tfidf = TfidfVectorizer(stop_words='english', max_features=5000)\n",
    "tfidf_matrix = tfidf.fit_transform(df['soup'])\n"
   ]
  },
  {
   "cell_type": "code",
   "execution_count": 12,
   "id": "1c432449-0165-40e0-ace6-8c1870cef3cf",
   "metadata": {},
   "outputs": [],
   "source": [
    "cosine_sim = cosine_similarity(tfidf_matrix, tfidf_matrix)"
   ]
  },
  {
   "cell_type": "code",
   "execution_count": 13,
   "id": "b518f549-635f-4c03-a4fe-8a676495167e",
   "metadata": {},
   "outputs": [],
   "source": [
    "def recommend_movie(title, cosine_sim=cosine_sim):\n",
    "    # Convert the title to lowercase \n",
    "    title = title.lower()\n",
    "    \n",
    "    # Ensure the title is in the dataset \n",
    "    if title not in df['title'].str.lower().values:\n",
    "        return f\"Movie titled '{title}' not found in the dataset.\"\n",
    "\n",
    "    # Get the index of the movie that matches the title\n",
    "    idx = df[df['title'].str.lower() == title].index[0]\n",
    "    \n",
    "    # Get the cosine similarity scores for the movie\n",
    "    sim_scores = list(enumerate(cosine_sim[idx]))\n",
    "    \n",
    "    # Sort the movies based on the cosine similarity score\n",
    "    sim_scores = sorted(sim_scores, key=lambda x: x[1], reverse=True)\n",
    "    \n",
    "    # Get the indices of the top 10 similar movies\n",
    "    sim_scores = sim_scores[1:11]  \n",
    "    movie_indices = [i[0] for i in sim_scores]\n",
    "    \n",
    "    # Return top 10 most similar movie \n",
    "    return df['title'].iloc[movie_indices].values\n"
   ]
  },
  {
   "cell_type": "code",
   "execution_count": 14,
   "id": "499abb81-4a81-4b08-a91d-57adf6715bff",
   "metadata": {},
   "outputs": [
    {
     "name": "stdout",
     "output_type": "stream",
     "text": [
      "['Jurassic World' 'The Curious Case of Benjamin Button' 'Se7en'\n",
      " 'L.A. Confidential' '15 Minutes' 'Contact' 'Ant-Man'\n",
      " 'Batman v Superman: Dawn of Justice' 'Armageddon'\n",
      " 'Austin Powers in Goldmember']\n"
     ]
    }
   ],
   "source": [
    "recommended_movies = recommend_movie('fight club')\n",
    "print(recommended_movies)"
   ]
  },
  {
   "cell_type": "code",
   "execution_count": null,
   "id": "8077ff57-fb04-4e73-8941-4c035b0cefc6",
   "metadata": {},
   "outputs": [],
   "source": []
  }
 ],
 "metadata": {
  "kernelspec": {
   "display_name": "Python 3 (ipykernel)",
   "language": "python",
   "name": "python3"
  },
  "language_info": {
   "codemirror_mode": {
    "name": "ipython",
    "version": 3
   },
   "file_extension": ".py",
   "mimetype": "text/x-python",
   "name": "python",
   "nbconvert_exporter": "python",
   "pygments_lexer": "ipython3",
   "version": "3.13.0"
  }
 },
 "nbformat": 4,
 "nbformat_minor": 5
}
